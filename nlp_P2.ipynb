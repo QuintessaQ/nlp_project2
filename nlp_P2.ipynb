{
  "nbformat": 4,
  "nbformat_minor": 0,
  "metadata": {
    "colab": {
      "name": "nlp P2",
      "provenance": [],
      "collapsed_sections": [],
      "include_colab_link": true
    },
    "kernelspec": {
      "name": "python3",
      "display_name": "Python 3"
    }
  },
  "cells": [
    {
      "cell_type": "markdown",
      "metadata": {
        "id": "view-in-github",
        "colab_type": "text"
      },
      "source": [
        "<a href=\"https://colab.research.google.com/github/QuintessaQ/nlp_project2/blob/master/nlp_P2.ipynb\" target=\"_parent\"><img src=\"https://colab.research.google.com/assets/colab-badge.svg\" alt=\"Open In Colab\"/></a>"
      ]
    },
    {
      "cell_type": "code",
      "metadata": {
        "id": "SM_F2y13va8f",
        "colab_type": "code",
        "outputId": "313694b6-b45d-42c7-f20a-12989b75190b",
        "colab": {
          "base_uri": "https://localhost:8080/",
          "height": 122
        }
      },
      "source": [
        "from google.colab import drive\n",
        "drive.mount('/content/drive')"
      ],
      "execution_count": 1,
      "outputs": [
        {
          "output_type": "stream",
          "text": [
            "Go to this URL in a browser: https://accounts.google.com/o/oauth2/auth?client_id=947318989803-6bn6qk8qdgf4n4g3pfee6491hc0brc4i.apps.googleusercontent.com&redirect_uri=urn%3Aietf%3Awg%3Aoauth%3A2.0%3Aoob&scope=email%20https%3A%2F%2Fwww.googleapis.com%2Fauth%2Fdocs.test%20https%3A%2F%2Fwww.googleapis.com%2Fauth%2Fdrive%20https%3A%2F%2Fwww.googleapis.com%2Fauth%2Fdrive.photos.readonly%20https%3A%2F%2Fwww.googleapis.com%2Fauth%2Fpeopleapi.readonly&response_type=code\n",
            "\n",
            "Enter your authorization code:\n",
            "··········\n",
            "Mounted at /content/drive\n"
          ],
          "name": "stdout"
        }
      ]
    },
    {
      "cell_type": "code",
      "metadata": {
        "id": "EXh8fTDAwnrf",
        "colab_type": "code",
        "colab": {}
      },
      "source": [
        "import pandas as pd\n",
        "dfile = pd.read_csv('/content/drive/My Drive/P2_release/data_release/train.csv', encoding=\"ISO-8859-1\")"
      ],
      "execution_count": 0,
      "outputs": []
    },
    {
      "cell_type": "code",
      "metadata": {
        "id": "6tGg2dyGyGmk",
        "colab_type": "code",
        "colab": {}
      },
      "source": [
        "#print(dfile)"
      ],
      "execution_count": 0,
      "outputs": []
    },
    {
      "cell_type": "markdown",
      "metadata": {
        "id": "EFG9Wj3Yps-p",
        "colab_type": "text"
      },
      "source": [
        "# MODEL 1: HMM"
      ]
    },
    {
      "cell_type": "markdown",
      "metadata": {
        "id": "2U8N0RasuROr",
        "colab_type": "text"
      },
      "source": [
        "### (1) Preprocessings:"
      ]
    },
    {
      "cell_type": "code",
      "metadata": {
        "id": "azCFjK3_tf2x",
        "colab_type": "code",
        "colab": {}
      },
      "source": [
        "# toLowerCase\n",
        "# punctuations\n",
        "# white spaces"
      ],
      "execution_count": 0,
      "outputs": []
    },
    {
      "cell_type": "markdown",
      "metadata": {
        "id": "d75obKwCuXRS",
        "colab_type": "text"
      },
      "source": [
        "### (2) Extracting from training set"
      ]
    },
    {
      "cell_type": "code",
      "metadata": {
        "id": "W4MRDcBStQdy",
        "colab_type": "code",
        "colab": {}
      },
      "source": [
        "# function 'numTokens' should count the number of tokens (not unique) \n",
        "# in the sequence after preprocessing\n",
        "def numTokens(seq):\n",
        "   "
      ],
      "execution_count": 0,
      "outputs": []
    },
    {
      "cell_type": "code",
      "metadata": {
        "id": "GbxJYayJtwby",
        "colab_type": "code",
        "colab": {}
      },
      "source": [
        "# function 'numTypes' should count the number of unique words (unique) \n",
        "# in the sequence after preprocessing\n",
        "def numTypes(seq):\n",
        "   "
      ],
      "execution_count": 0,
      "outputs": []
    },
    {
      "cell_type": "code",
      "metadata": {
        "id": "XJqilvcUuE_1",
        "colab_type": "code",
        "colab": {}
      },
      "source": [
        "# variable 'total_labels' is the count os all labels in the training set"
      ],
      "execution_count": 0,
      "outputs": []
    },
    {
      "cell_type": "code",
      "metadata": {
        "id": "3bXh6qUcufcQ",
        "colab_type": "code",
        "colab": {}
      },
      "source": [
        "# create 'label_count' array of length 2 for the count of each label\n",
        "# 'label_count[0]' is the count of appearance of label '0',\n",
        "# and 'label_count[1]' is the count of appearance of label '1' in training data.\n"
      ],
      "execution_count": 0,
      "outputs": []
    },
    {
      "cell_type": "code",
      "metadata": {
        "id": "VoyvKRhWqwic",
        "colab_type": "code",
        "colab": {}
      },
      "source": [
        "# create 'transition_count' table of dimension (2 * 2) for calculating bi_trans_p\n",
        "# for each sentence, process its labels for each word, iterate over the sequence\n",
        "# of labels, save the count for transitions (0 to 1, 0 to 0, 1 to 1, 1 to 0). \n"
      ],
      "execution_count": 0,
      "outputs": []
    },
    {
      "cell_type": "code",
      "metadata": {
        "id": "B6qM4qNgq2Ic",
        "colab_type": "code",
        "colab": {}
      },
      "source": [
        "# create two dictionaries: 'l1_words' and 'l0_words',\n",
        "# each of which has w_i as keys, and the count of w_i with corresponding\n",
        "# label as values. eg: l1_words[boy] is the count the word 'boy' given its\n",
        "# label = 1"
      ],
      "execution_count": 0,
      "outputs": []
    },
    {
      "cell_type": "markdown",
      "metadata": {
        "id": "mVyx8uajzNQO",
        "colab_type": "text"
      },
      "source": [
        "### (3) Probability tables"
      ]
    },
    {
      "cell_type": "code",
      "metadata": {
        "id": "Y7iLl4uKpu16",
        "colab_type": "code",
        "colab": {}
      },
      "source": [
        "# 'uni_trans_p' use unigram to calculate transition probability \n",
        "# for labels (0 or 1). This is simply the log of probability of the appearance \n",
        "# of each label.\n",
        "# OUTPUT: 1 dimensional array of length 2\n",
        "def uni_trans_p:\n",
        "  # uni_trans_ptable[i] = log(label_count[i] / total_labels)"
      ],
      "execution_count": 0,
      "outputs": []
    },
    {
      "cell_type": "code",
      "metadata": {
        "id": "D7QYAEPVqpUu",
        "colab_type": "code",
        "colab": {}
      },
      "source": [
        "# 'bi_trans_p' use bigram to calculate transition probability \n",
        "# for labels (0 or 1) from one state to another\n",
        "# 'bi_trans_p' is a 2D array with dimenstion (2*2)\n",
        "# 'bi_trans_p[i][j]'' indicates the log of transition probability from state i\n",
        "# to state j using bigram model\n",
        "# OUTPUT: (2 * 2) array\n",
        "def bi_trans_p:\n",
        "  # bi_trans_ptable[i][j] = log(transition_count[i][j] / label_count[i])"
      ],
      "execution_count": 0,
      "outputs": []
    },
    {
      "cell_type": "code",
      "metadata": {
        "id": "lkpx8Ngevsu_",
        "colab_type": "code",
        "colab": {}
      },
      "source": [
        "# 'emis_p' is a dictionary with tuple keys (w_i, l_i), and the log of\n",
        "# emission probabilities for that word 'w_i' given label 'l_i' as values.\n",
        "# From 'l1_words' and 'l0_words', we could extrace the count of 'w_i' in table\n",
        "# 'l_i', and calculate that probability by dividing count with total number of\n",
        "# words in that label dictionary.\n",
        "# OUTPUT: (num_types * 2) array\n",
        "def emis_p:"
      ],
      "execution_count": 0,
      "outputs": []
    },
    {
      "cell_type": "markdown",
      "metadata": {
        "id": "hgaqkfsZ2-sp",
        "colab_type": "text"
      },
      "source": [
        "### (4) Viterbi"
      ]
    },
    {
      "cell_type": "code",
      "metadata": {
        "id": "6cAp-r5L3CUj",
        "colab_type": "code",
        "colab": {}
      },
      "source": [
        "# OUTPUT: a sequence of lebels for seq\n",
        "# SCORE table are calculated as log, so each cell is the sum of \n",
        "# probabilities from trans_p and emis_p\n",
        "def viterbi (trans_p, sentence):"
      ],
      "execution_count": 0,
      "outputs": []
    },
    {
      "cell_type": "markdown",
      "metadata": {
        "id": "HVknrFko4zjx",
        "colab_type": "text"
      },
      "source": [
        "### (5) Validation"
      ]
    },
    {
      "cell_type": "code",
      "metadata": {
        "id": "NfG8kzul5lgy",
        "colab_type": "code",
        "colab": {}
      },
      "source": [
        "# 'accuracy' calculated the accracy of predicted labels given sentence\n",
        "# INPUT: 'actual' label sequence generated by 'viterbi' function,\n",
        "#  'expected' label sequence from the validation set labels.\n",
        "# OUTPUT: a number (ratio of accuracy)\n",
        "def accuracy(actual, expected):\n"
      ],
      "execution_count": 0,
      "outputs": []
    },
    {
      "cell_type": "code",
      "metadata": {
        "id": "3h-ZbImx6QQh",
        "colab_type": "code",
        "colab": {}
      },
      "source": [
        "# Comparision between different HMMs\n",
        "\n",
        "# 'expected': extract expected labels from validation set\n",
        "\n",
        "# accuracy(viterbi (uni_trans_p, sentence), expected)\n",
        "# accuracy(viterbi (bi_trans_p, sentence), expected)\n",
        "# weight?"
      ],
      "execution_count": 0,
      "outputs": []
    },
    {
      "cell_type": "markdown",
      "metadata": {
        "id": "qYxVZX4j64Kn",
        "colab_type": "text"
      },
      "source": [
        "The HMM model with highest accuracy is: "
      ]
    },
    {
      "cell_type": "markdown",
      "metadata": {
        "id": "_NVgVLn57F75",
        "colab_type": "text"
      },
      "source": [
        "# Model 2"
      ]
    },
    {
      "cell_type": "code",
      "metadata": {
        "id": "5QVvgpm57IIN",
        "colab_type": "code",
        "colab": {}
      },
      "source": [
        ""
      ],
      "execution_count": 0,
      "outputs": []
    }
  ]
}