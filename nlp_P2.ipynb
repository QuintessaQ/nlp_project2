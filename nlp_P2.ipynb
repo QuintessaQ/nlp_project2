{
  "nbformat": 4,
  "nbformat_minor": 0,
  "metadata": {
    "colab": {
      "name": "nlp P2",
      "provenance": [],
      "collapsed_sections": [],
      "include_colab_link": true
    },
    "kernelspec": {
      "name": "python3",
      "display_name": "Python 3"
    }
  },
  "cells": [
    {
      "cell_type": "markdown",
      "metadata": {
        "id": "view-in-github",
        "colab_type": "text"
      },
      "source": [
        "<a href=\"https://colab.research.google.com/github/QuintessaQ/nlp_project2/blob/master/nlp_P2.ipynb\" target=\"_parent\"><img src=\"https://colab.research.google.com/assets/colab-badge.svg\" alt=\"Open In Colab\"/></a>"
      ]
    },
    {
      "cell_type": "code",
      "metadata": {
        "id": "SM_F2y13va8f",
        "colab_type": "code",
        "outputId": "70964236-0946-424e-d5fc-4d4aa3f2db14",
        "colab": {
          "base_uri": "https://localhost:8080/",
          "height": 189
        }
      },
      "source": [
        "from google.colab import drive\n",
        "drive.mount('/content/drive')"
      ],
      "execution_count": 0,
      "outputs": [
        {
          "output_type": "stream",
          "text": [
            "Go to this URL in a browser: https://accounts.google.com/o/oauth2/auth?client_id=947318989803-6bn6qk8qdgf4n4g3pfee6491hc0brc4i.apps.googleusercontent.com&redirect_uri=urn%3Aietf%3Awg%3Aoauth%3A2.0%3Aoob&scope=email%20https%3A%2F%2Fwww.googleapis.com%2Fauth%2Fdocs.test%20https%3A%2F%2Fwww.googleapis.com%2Fauth%2Fdrive%20https%3A%2F%2Fwww.googleapis.com%2Fauth%2Fdrive.photos.readonly%20https%3A%2F%2Fwww.googleapis.com%2Fauth%2Fpeopleapi.readonly&response_type=code\n",
            "\n",
            "Enter your authorization code:\n",
            "··········\n",
            "Mounted at /content/drive\n"
          ],
          "name": "stdout"
        }
      ]
    },
    {
      "cell_type": "code",
      "metadata": {
        "id": "EXh8fTDAwnrf",
        "colab_type": "code",
        "colab": {}
      },
      "source": [
        "import pandas as pd\n",
        "dfile = pd.read_csv('/content/drive/My Drive/P2_release/data_release/train.csv', encoding=\"ISO-8859-1\")"
      ],
      "execution_count": 0,
      "outputs": []
    },
    {
      "cell_type": "code",
      "metadata": {
        "id": "6tGg2dyGyGmk",
        "colab_type": "code",
        "outputId": "896467b0-7b1b-4a42-d24e-5645b7808ad5",
        "colab": {
          "base_uri": "https://localhost:8080/",
          "height": 1000
        }
      },
      "source": [
        "print(dfile)"
      ],
      "execution_count": 0,
      "outputs": [
        {
          "output_type": "stream",
          "text": [
            "                                               sentence  ...                                          label_seq\n",
            "0                      Ca n't fail to be entertaining .  ...                              [0, 0, 0, 0, 0, 0, 0]\n",
            "1                   How much was he going to tell her ?  ...                        [0, 0, 0, 0, 0, 0, 0, 0, 0]\n",
            "2     Up until that news hit the Committee , Don had...  ...  [0, 0, 1, 0, 1, 0, 0, 0, 0, 0, 0, 0, 0, 1, 0, ...\n",
            "3     Could go on to the rugby and go with them coul...  ...         [0, 0, 0, 0, 0, 0, 0, 0, 0, 0, 0, 0, 0, 0]\n",
            "4     Finally , we went to the office and they gave ...  ...  [0, 0, 0, 0, 0, 0, 0, 0, 1, 1, 0, 0, 0, 0, 0, ...\n",
            "5     It must be shown that the defendant intended (...  ...  [0, 0, 0, 1, 0, 0, 0, 0, 0, 0, 0, 0, 0, 1, 0, ...\n",
            "6     The Englishman nodded and poured himself more ...  ...                        [0, 0, 0, 0, 0, 0, 0, 0, 0]\n",
            "7                                          I demanded .  ...                                          [0, 0, 0]\n",
            "8     What is not known is information on the locati...  ...  [0, 0, 0, 0, 0, 0, 0, 0, 0, 0, 0, 0, 0, 0, 0, ...\n",
            "9                                That 's getting in the  ...                                    [1, 0, 0, 0, 0]\n",
            "10    He had trouble finding an appropriate language...  ...  [0, 1, 0, 1, 0, 0, 0, 0, 0, 0, 0, 0, 1, 0, 1, ...\n",
            "11          And yet he 'd disappeared , without trace .  ...                        [0, 0, 0, 0, 0, 0, 1, 0, 0]\n",
            "12    Why did n't you want to buy the same one again...  ...            [0, 0, 0, 0, 0, 0, 0, 0, 0, 0, 0, 0, 0]\n",
            "13    It was a substantial , two-storey , L-shaped h...  ...  [0, 0, 0, 0, 0, 0, 0, 0, 0, 1, 0, 0, 0, 0, 0, ...\n",
            "14    Now , however , it seems , the wheel has turne...  ...         [0, 0, 0, 0, 0, 0, 0, 0, 1, 0, 1, 1, 1, 0]\n",
            "15    They 've been to his little boy 's primary sch...  ...  [0, 0, 0, 0, 0, 0, 0, 0, 0, 0, 0, 0, 0, 0, 0, ...\n",
            "16                                         Isobel wants  ...                                             [0, 0]\n",
            "17     They were expensive to buy and came a day late .  ...                  [0, 0, 0, 0, 0, 0, 1, 0, 0, 0, 0]\n",
            "18    Sir David English was not informed of the visi...  ...  [0, 0, 0, 0, 0, 0, 0, 0, 0, 0, 1, 0, 1, 0, 1, ...\n",
            "19    The outline of the soft parts are also clearly...  ...  [0, 0, 0, 0, 0, 0, 0, 0, 0, 0, 0, 0, 0, 0, 0, ...\n",
            "20    Given the already appalling and growing rate o...  ...  [0, 0, 0, 0, 0, 0, 0, 0, 0, 0, 0, 0, 0, 0, 0, ...\n",
            "21    Elinor was sometimes at a loss for the right w...  ...  [0, 0, 0, 1, 0, 1, 0, 0, 0, 0, 0, 0, 0, 0, 0, ...\n",
            "22    Fortunately , technical developments have ensu...  ...  [0, 0, 0, 0, 0, 0, 0, 0, 0, 0, 0, 0, 0, 0, 0, ...\n",
            "23                                         He laughed .  ...                                          [0, 0, 0]\n",
            "24    and it does mean that they can relax you know ...  ...         [0, 0, 0, 1, 0, 0, 0, 1, 0, 0, 1, 0, 0, 0]\n",
            "25    You know I mean other than that , no I mean it...  ...  [0, 0, 0, 0, 0, 0, 1, 0, 0, 0, 0, 0, 0, 0, 0, ...\n",
            "26    She was in hospital for six weeks , and I was ...  ...  [0, 0, 0, 0, 0, 0, 0, 0, 0, 0, 0, 0, 0, 0, 0, ...\n",
            "27    Task analysis has not and can not be reduced t...  ...  [0, 0, 0, 0, 0, 0, 0, 0, 1, 1, 0, 0, 0, 0, 0, ...\n",
            "28    It was surely repugnant to commonsense that in...  ...  [0, 0, 0, 0, 1, 0, 0, 1, 1, 1, 0, 0, 0, 0, 0, ...\n",
            "29    They did n't want the Yanks stumbling in and s...  ...  [0, 0, 0, 0, 0, 0, 1, 1, 0, 1, 1, 1, 0, 0, 0, ...\n",
            "...                                                 ...  ...                                                ...\n",
            "6293                        And division is shared by .  ...                                 [0, 1, 0, 1, 0, 0]\n",
            "6294  Discourses on punishment and dictionary defini...  ...  [0, 1, 0, 0, 0, 0, 0, 0, 1, 1, 0, 0, 1, 1, 0, ...\n",
            "6295              This will get modern usage of words .  ...                           [1, 0, 1, 0, 1, 0, 0, 0]\n",
            "6296                           Daddy 's got the marge .  ...                                 [0, 0, 0, 0, 0, 0]\n",
            "6297  The regulations have obvious implications for ...  ...            [0, 0, 0, 0, 0, 0, 0, 0, 0, 0, 0, 0, 0]\n",
            "6298  The contents of this chapter have scarcely tou...  ...  [0, 0, 0, 0, 0, 0, 0, 0, 0, 0, 0, 0, 0, 0, 0, ...\n",
            "6299                            They 've both got whole  ...                                    [0, 0, 0, 0, 0]\n",
            "6300            Even that Bob Monkhouse opened up quite  ...                              [0, 1, 0, 0, 0, 0, 0]\n",
            "6301  It was , he thought , an interesting choice of...  ...               [0, 0, 0, 0, 0, 0, 0, 0, 0, 0, 0, 0]\n",
            "6302  More than one child in three is born into a si...  ...         [0, 0, 0, 0, 1, 0, 0, 0, 1, 0, 0, 0, 0, 0]\n",
            "6303                  \" No , thank you all the same . \"  ...                     [0, 0, 0, 0, 0, 0, 0, 0, 0, 0]\n",
            "6304  Research on natural hazards has a long traditi...  ...  [0, 0, 0, 0, 0, 0, 0, 0, 0, 0, 0, 0, 0, 0, 0, ...\n",
            "6305                              Seven fifty I think .  ...                                    [0, 0, 0, 0, 0]\n",
            "6306  IN THE small Devon town of South Molton , Juli...  ...  [0, 0, 0, 0, 0, 0, 0, 0, 0, 0, 0, 0, 0, 1, 0, ...\n",
            "6307                             Perhaps you share it .  ...                                    [0, 0, 1, 0, 0]\n",
            "6308                               Gone a funny shape .  ...                                    [0, 0, 1, 0, 0]\n",
            "6309  The influence of Central Office toned up the r...  ...            [0, 0, 0, 0, 0, 1, 1, 0, 0, 0, 0, 0, 0]\n",
            "6310                  You did n't watch it last night .  ...                           [0, 0, 0, 0, 0, 0, 0, 0]\n",
            "6311       how much , how much , I do n't really know .  ...               [0, 0, 0, 0, 0, 0, 0, 0, 0, 0, 0, 0]\n",
            "6312                     Well it can hear us all then .  ...                           [0, 0, 0, 1, 0, 0, 0, 0]\n",
            "6313            Floor you know you had a middle floor .  ...                        [0, 0, 0, 0, 1, 0, 0, 0, 0]\n",
            "6314              . Well it 's make your mind up time .  ...                     [0, 0, 0, 0, 1, 0, 0, 1, 0, 0]\n",
            "6315                     But Paul Davis remains unfit .  ...                                 [0, 0, 0, 0, 0, 0]\n",
            "6316  The justification for pouring out large sums w...  ...  [0, 1, 0, 1, 1, 1, 0, 1, 0, 0, 1, 0, 0, 0, 1, ...\n",
            "6317                          Play with the other one !  ...                                 [0, 0, 0, 0, 0, 0]\n",
            "6318  In a voice of soft persuasion , she said , Wil...  ...  [1, 0, 0, 0, 1, 0, 0, 0, 0, 0, 0, 0, 0, 0, 0, ...\n",
            "6319  It is a symptom of public anxiety about urban ...  ...  [0, 0, 0, 1, 0, 0, 0, 1, 0, 0, 0, 0, 0, 0, 0, ...\n",
            "6320                         I do n't like Miss Fitch .  ...                              [0, 0, 0, 0, 0, 0, 0]\n",
            "6321  A fern-like plant , beautifully preserved in a...  ...                  [0, 0, 0, 0, 0, 0, 0, 0, 0, 0, 0]\n",
            "6322  And there were never more than a few dozen rin...  ...  [0, 0, 0, 0, 0, 0, 0, 0, 0, 0, 0, 0, 0, 0, 0, ...\n",
            "\n",
            "[6323 rows x 3 columns]\n"
          ],
          "name": "stdout"
        }
      ]
    },
    {
      "cell_type": "code",
      "metadata": {
        "id": "gX8OPdqf0c4S",
        "colab_type": "code",
        "colab": {}
      },
      "source": [
        ""
      ],
      "execution_count": 0,
      "outputs": []
    }
  ]
}